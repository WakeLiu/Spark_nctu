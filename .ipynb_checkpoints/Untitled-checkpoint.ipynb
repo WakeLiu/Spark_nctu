{
 "cells": [
  {
   "cell_type": "code",
   "execution_count": null,
   "metadata": {},
   "outputs": [],
   "source": [
    "from pyspark import SparkContext\n",
    "sc = SparkContext(\"local[*]\")"
   ]
  },
  {
   "cell_type": "code",
   "execution_count": 6,
   "metadata": {},
   "outputs": [
    {
     "data": {
      "text/plain": [
       "['YEAR,GoogleKnowlege_Occupation,Show,Group,Raw_Guest_List',\n",
       " '1999,actor,1/11/99,Acting,Michael J. Fox',\n",
       " '1999,Comedian,1/12/99,Comedy,Sandra Bernhard',\n",
       " '1999,television actress,1/13/99,Acting,Tracey Ullman',\n",
       " '1999,film actress,1/14/99,Acting,Gillian Anderson']"
      ]
     },
     "execution_count": 6,
     "metadata": {},
     "output_type": "execute_result"
    }
   ],
   "source": [
    "raw_data = sc.textFile(\"daily_show_guests.csv\")\n",
    "raw_data.take(5)"
   ]
  },
  {
   "cell_type": "code",
   "execution_count": 7,
   "metadata": {},
   "outputs": [
    {
     "data": {
      "text/plain": [
       "[['YEAR', 'GoogleKnowlege_Occupation', 'Show', 'Group', 'Raw_Guest_List'],\n",
       " ['1999', 'actor', '1/11/99', 'Acting', 'Michael J. Fox'],\n",
       " ['1999', 'Comedian', '1/12/99', 'Comedy', 'Sandra Bernhard'],\n",
       " ['1999', 'television actress', '1/13/99', 'Acting', 'Tracey Ullman'],\n",
       " ['1999', 'film actress', '1/14/99', 'Acting', 'Gillian Anderson']]"
      ]
     },
     "execution_count": 7,
     "metadata": {},
     "output_type": "execute_result"
    }
   ],
   "source": [
    "daily_show = raw_data.map(lambda line: line.split(','))\n",
    "daily_show.take(5)\n"
   ]
  },
  {
   "cell_type": "code",
   "execution_count": 9,
   "metadata": {},
   "outputs": [],
   "source": [
    "\n",
    "tally = dict()\n",
    "for line in daily_show.take(100):\n",
    "    year = line[0] \n",
    "    if year in tally.keys(): \n",
    "        tally[year] = tally[year] + 1   \n",
    "    else:\n",
    "        tally[year] = 1\n"
   ]
  },
  {
   "cell_type": "code",
   "execution_count": 15,
   "metadata": {},
   "outputs": [
    {
     "data": {
      "text/plain": [
       "[('YEAR', 1),\n",
       " ('1999', 1),\n",
       " ('1999', 1),\n",
       " ('1999', 1),\n",
       " ('1999', 1),\n",
       " ('1999', 1),\n",
       " ('1999', 1),\n",
       " ('1999', 1),\n",
       " ('1999', 1),\n",
       " ('1999', 1)]"
      ]
     },
     "execution_count": 15,
     "metadata": {},
     "output_type": "execute_result"
    }
   ],
   "source": [
    "tally = daily_show.map(lambda x: (x[0], 1)).take(10) # reduceByKey(lambda x,y: x+y)\n",
    "tally"
   ]
  },
  {
   "cell_type": "code",
   "execution_count": null,
   "metadata": {},
   "outputs": [],
   "source": [
    "tally = daily_show.map(lambda x: (x[0], 1)).reduceByKey(lambda x,y: x+y)\n",
    "tally"
   ]
  },
  {
   "cell_type": "code",
   "execution_count": 12,
   "metadata": {},
   "outputs": [
    {
     "data": {
      "text/plain": [
       "[('YEAR', 1),\n",
       " ('2002', 159),\n",
       " ('2003', 166),\n",
       " ('2004', 164),\n",
       " ('2007', 141),\n",
       " ('2010', 165),\n",
       " ('2011', 163),\n",
       " ('2012', 164),\n",
       " ('2013', 166),\n",
       " ('2014', 163),\n",
       " ('2015', 100),\n",
       " ('1999', 166),\n",
       " ('2000', 169),\n",
       " ('2001', 157),\n",
       " ('2005', 162),\n",
       " ('2006', 161),\n",
       " ('2008', 164),\n",
       " ('2009', 163)]"
      ]
     },
     "execution_count": 12,
     "metadata": {},
     "output_type": "execute_result"
    }
   ],
   "source": [
    "tally.take(tally.count())"
   ]
  },
  {
   "cell_type": "code",
   "execution_count": 46,
   "metadata": {},
   "outputs": [
    {
     "ename": "SyntaxError",
     "evalue": "invalid syntax (<ipython-input-46-925b0073465e>, line 1)",
     "output_type": "error",
     "traceback": [
      "\u001b[0;36m  File \u001b[0;32m\"<ipython-input-46-925b0073465e>\"\u001b[0;36m, line \u001b[0;32m1\u001b[0m\n\u001b[0;31m    test = range(1..10)\u001b[0m\n\u001b[0m                     ^\u001b[0m\n\u001b[0;31mSyntaxError\u001b[0m\u001b[0;31m:\u001b[0m invalid syntax\n"
     ]
    }
   ],
   "source": [
    "test = range(1..10)\n",
    "test"
   ]
  },
  {
   "cell_type": "code",
   "execution_count": null,
   "metadata": {
    "collapsed": true
   },
   "outputs": [],
   "source": [
    "def filter_year(line): \n",
    "    if line[0] == 'YEAR': \n",
    "        return False \n",
    "    else: \n",
    "        return True"
   ]
  },
  {
   "cell_type": "code",
   "execution_count": 40,
   "metadata": {
    "collapsed": true
   },
   "outputs": [],
   "source": [
    "#Remove line 'YEAR'\n",
    "filtered_daily_show = daily_show.filter(lambda line: filter_year(line))"
   ]
  },
  {
   "cell_type": "code",
   "execution_count": 41,
   "metadata": {},
   "outputs": [
    {
     "data": {
      "text/plain": [
       "[('actor', 596),\n",
       " ('film actress', 21),\n",
       " ('model', 9),\n",
       " ('stand-up comedian', 44),\n",
       " ('actress', 271),\n",
       " ('television personality', 13),\n",
       " ('comic', 2),\n",
       " ('musician', 19),\n",
       " ('film actor', 19),\n",
       " ('journalist', 253),\n",
       " ('us senator', 50),\n",
       " ('vocalist', 2),\n",
       " ('film director', 24),\n",
       " ('singer', 23),\n",
       " ('muppet', 2),\n",
       " ('american television personality', 3),\n",
       " ('rapper', 10),\n",
       " ('football player', 1),\n",
       " ('former mayor of cincinatti', 2),\n",
       " ('businesswoman', 2),\n",
       " ('american politician', 8),\n",
       " ('radio personality', 3),\n",
       " ('commentator', 24),\n",
       " ('reality show contestant', 1),\n",
       " ('magician', 1),\n",
       " ('former u.s. representative', 7),\n",
       " ('former united states secretary of labor', 6),\n",
       " ('band', 2),\n",
       " ('american football quarterback', 3),\n",
       " ('diplomat', 10),\n",
       " ('white house sommunications director', 5),\n",
       " ('sportscaster', 4),\n",
       " ('television producer', 3),\n",
       " ('screenwriter', 6),\n",
       " ('essayist', 2),\n",
       " ('minister', 4),\n",
       " ('host', 1),\n",
       " ('assistant secretary of defense', 1),\n",
       " ('former assistant to the president for communications', 3),\n",
       " ('basketball player', 12),\n",
       " ('editor', 19),\n",
       " ('former vice president', 5),\n",
       " ('soccer player', 3),\n",
       " ('critic', 1),\n",
       " ('political figure', 9),\n",
       " ('correspondent', 6),\n",
       " ('foreign policy expert', 1),\n",
       " ('political psychologist', 1),\n",
       " ('former united states secretary of state', 6),\n",
       " ('designer', 1),\n",
       " ('former us representative', 7),\n",
       " ('analyst', 2),\n",
       " ('former govrnor of masssachusetts', 1),\n",
       " ('trumpeter', 2),\n",
       " ('former mayor of new york', 2),\n",
       " ('adviser', 4),\n",
       " ('public official', 1),\n",
       " ('former governor of new york', 1),\n",
       " ('documentary filmmaker', 3),\n",
       " ('former governor of new mexico', 3),\n",
       " ('0', 4),\n",
       " ('assistant to the president for communications', 1),\n",
       " ('former governor of montans', 1),\n",
       " ('us assistant attorney', 1),\n",
       " ('military officer', 2),\n",
       " ('former president', 3),\n",
       " ('music producer', 1),\n",
       " ('attorney', 6),\n",
       " ('former governor of vermont', 5),\n",
       " ('former us secretary of defense', 2),\n",
       " ('psychic', 1),\n",
       " ('doctor', 1),\n",
       " ('former governor of rhode island', 1),\n",
       " ('united states secretary of agriculture', 1),\n",
       " ('high-altitude mountaineer', 1),\n",
       " ('astronaut', 2),\n",
       " ('film critic', 1),\n",
       " ('inspector general of homeland security department', 1),\n",
       " ('professional road racing cyclist', 2),\n",
       " ('former us secretary of education', 1),\n",
       " ('telvision actor', 1),\n",
       " ('former white house counsel', 1),\n",
       " ('academic', 6),\n",
       " ('former member of the united states senate', 1),\n",
       " ('american football wide reciever', 1),\n",
       " ('busines magnate', 3),\n",
       " ('astrophysicist', 9),\n",
       " ('law professor', 4),\n",
       " ('american football running back', 1),\n",
       " ('psychologist', 1),\n",
       " ('minister of defense', 1),\n",
       " ('political consultant', 1),\n",
       " ('advocate', 1),\n",
       " ('freelance writer', 2),\n",
       " ('author of novels', 1),\n",
       " ('former us secretary of state', 4),\n",
       " ('neuroscientist', 1),\n",
       " ('presidnet', 3),\n",
       " ('university professor', 2),\n",
       " ('security expert', 1)]"
      ]
     },
     "execution_count": 41,
     "metadata": {},
     "output_type": "execute_result"
    }
   ],
   "source": [
    "filtered_daily_show.filter(lambda line: line[1] != '') \\\n",
    ".map(lambda line: (line[1].lower(), 1))\\\n",
    ".reduceByKey(lambda x,y: x+y) \\\n",
    ".take(100)"
   ]
  },
  {
   "cell_type": "code",
   "execution_count": null,
   "metadata": {
    "collapsed": true
   },
   "outputs": [],
   "source": []
  }
 ],
 "metadata": {
  "kernelspec": {
   "display_name": "Python 3",
   "language": "python",
   "name": "python3"
  },
  "language_info": {
   "codemirror_mode": {
    "name": "ipython",
    "version": 3
   },
   "file_extension": ".py",
   "mimetype": "text/x-python",
   "name": "python",
   "nbconvert_exporter": "python",
   "pygments_lexer": "ipython3",
   "version": "3.6.1"
  }
 },
 "nbformat": 4,
 "nbformat_minor": 2
}
